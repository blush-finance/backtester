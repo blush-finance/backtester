{
 "cells": [
  {
   "cell_type": "code",
   "execution_count": 1,
   "id": "5e0f7f0d-c091-4f72-a42b-1614fa330b8e",
   "metadata": {
    "tags": []
   },
   "outputs": [
    {
     "name": "stdout",
     "output_type": "stream",
     "text": [
      "Collecting cvxpy\n",
      "  Downloading cvxpy-1.4.1-cp311-cp311-macosx_10_9_x86_64.whl (1.1 MB)\n",
      "\u001b[2K     \u001b[90m━━━━━━━━━━━━━━━━━━━━━━━━━━━━━━━━━━━━━━━━\u001b[0m \u001b[32m1.1/1.1 MB\u001b[0m \u001b[31m8.9 MB/s\u001b[0m eta \u001b[36m0:00:00\u001b[0m:00:01\u001b[0m00:01\u001b[0m\n",
      "\u001b[?25hCollecting osqp>=0.6.2 (from cvxpy)\n",
      "  Downloading osqp-0.6.3-cp311-cp311-macosx_10_9_x86_64.whl (252 kB)\n",
      "\u001b[2K     \u001b[90m━━━━━━━━━━━━━━━━━━━━━━━━━━━━━━━━━━━━━━━\u001b[0m \u001b[32m252.6/252.6 kB\u001b[0m \u001b[31m6.1 MB/s\u001b[0m eta \u001b[36m0:00:00\u001b[0ma \u001b[36m0:00:01\u001b[0m\n",
      "\u001b[?25hCollecting ecos>=2 (from cvxpy)\n",
      "  Downloading ecos-2.0.12-cp311-cp311-macosx_10_9_x86_64.whl (90 kB)\n",
      "\u001b[2K     \u001b[90m━━━━━━━━━━━━━━━━━━━━━━━━━━━━━━━━━━━━━━━━\u001b[0m \u001b[32m90.6/90.6 kB\u001b[0m \u001b[31m4.1 MB/s\u001b[0m eta \u001b[36m0:00:00\u001b[0m\n",
      "\u001b[?25hCollecting clarabel>=0.5.0 (from cvxpy)\n",
      "  Downloading clarabel-0.6.0-cp37-abi3-macosx_10_9_x86_64.macosx_11_0_arm64.macosx_10_9_universal2.whl (987 kB)\n",
      "\u001b[2K     \u001b[90m━━━━━━━━━━━━━━━━━━━━━━━━━━━━━━━━━━━━━━━\u001b[0m \u001b[32m987.4/987.4 kB\u001b[0m \u001b[31m9.4 MB/s\u001b[0m eta \u001b[36m0:00:00\u001b[0ma \u001b[36m0:00:01\u001b[0m\n",
      "\u001b[?25hCollecting scs>=3.0 (from cvxpy)\n",
      "  Downloading scs-3.2.3-cp311-cp311-macosx_10_9_x86_64.whl (11.6 MB)\n",
      "\u001b[2K     \u001b[90m━━━━━━━━━━━━━━━━━━━━━━━━━━━━━━━━━━━━━━━━\u001b[0m \u001b[32m11.6/11.6 MB\u001b[0m \u001b[31m6.7 MB/s\u001b[0m eta \u001b[36m0:00:00\u001b[0m00:01\u001b[0m00:01\u001b[0m\n",
      "\u001b[?25hRequirement already satisfied: numpy>=1.15 in /Users/ramin/anaconda3/lib/python3.11/site-packages (from cvxpy) (1.24.3)\n",
      "Requirement already satisfied: scipy>=1.1.0 in /Users/ramin/anaconda3/lib/python3.11/site-packages (from cvxpy) (1.10.1)\n",
      "Collecting pybind11 (from cvxpy)\n",
      "  Downloading pybind11-2.11.1-py3-none-any.whl (227 kB)\n",
      "\u001b[2K     \u001b[90m━━━━━━━━━━━━━━━━━━━━━━━━━━━━━━━━━━━━━━━\u001b[0m \u001b[32m227.7/227.7 kB\u001b[0m \u001b[31m5.5 MB/s\u001b[0m eta \u001b[36m0:00:00\u001b[0m00:01\u001b[0m\n",
      "\u001b[?25hCollecting qdldl (from osqp>=0.6.2->cvxpy)\n",
      "  Downloading qdldl-0.1.7.post0-cp311-cp311-macosx_10_9_x86_64.whl (105 kB)\n",
      "\u001b[2K     \u001b[90m━━━━━━━━━━━━━━━━━━━━━━━━━━━━━━━━━━━━━━━\u001b[0m \u001b[32m105.2/105.2 kB\u001b[0m \u001b[31m5.4 MB/s\u001b[0m eta \u001b[36m0:00:00\u001b[0m\n",
      "\u001b[?25hInstalling collected packages: pybind11, scs, qdldl, ecos, clarabel, osqp, cvxpy\n",
      "Successfully installed clarabel-0.6.0 cvxpy-1.4.1 ecos-2.0.12 osqp-0.6.3 pybind11-2.11.1 qdldl-0.1.7.post0 scs-3.2.3\n"
     ]
    }
   ],
   "source": [
    "!pip install cvxpy\n",
    "\n",
    "import yfinance as yf\n",
    "import pandas as pd\n",
    "import numpy as np\n",
    "import cvxpy as cp\n",
    "import Strategies\n",
    "import datetime\n",
    "from sklearn.ensemble import RandomForestRegressor\n",
    "from sklearn.metrics import mean_squared_error, r2_score"
   ]
  },
  {
   "cell_type": "code",
   "execution_count": 2,
   "id": "ac803ed8-6cee-4481-aa77-bb9c1ed5e517",
   "metadata": {},
   "outputs": [],
   "source": [
    "# Data Download"
   ]
  },
  {
   "cell_type": "code",
   "execution_count": 3,
   "id": "7655f114-5776-48e5-8f0d-da3f08aed211",
   "metadata": {
    "tags": []
   },
   "outputs": [],
   "source": [
    "\n",
    "# List of U.S. equities by their ticker symbols\n",
    "equity_symbols = [\n",
    "     \"AAPL\", \"MSFT\", \"GOOGL\", \"AMZN\", \"TSLA\", \"^GSPC\" # Add more symbols here\n",
    "    # Add more symbols here\n",
    "]\n",
    "\n",
    "returns = Strategies.data_download(equity_symbols)\n"
   ]
  },
  {
   "cell_type": "code",
   "execution_count": 4,
   "id": "c73f3de9-c1a1-4c5f-84ef-57ce33918511",
   "metadata": {
    "tags": []
   },
   "outputs": [
    {
     "name": "stdout",
     "output_type": "stream",
     "text": [
      "Model Precision for AAPL_Close: 0.38\n",
      "Model Precision for MSFT_Close: 0.47\n",
      "Model Precision for GOOGL_Close: 0.38\n",
      "Model Precision for AMZN_Close: 0.27\n",
      "Model Precision for TSLA_Close: -0.06\n"
     ]
    }
   ],
   "source": [
    "# Example usage ML\n",
    "#Import The ML strategy from the strategies module\n",
    "train_ml_strategy=Strategies.train_ml_strategy\n",
    "#Import The backtester from the strategies module\n",
    "\n",
    "backtest=Strategies.backtest_strategy\n",
    "# Backtest the strategy on the testing data to measure model precision\n",
    "model_precisions, returns_predicted, weights, testing_data_returns, ptf_value = backtest(\"ML\",train_ml_strategy, returns, len(returns) // 2)\n",
    "\n",
    "#Dsiplay mode precision for each stock\n",
    "for stock, precision in model_precisions.items():\n",
    "    print(f\"Model Precision for {stock}: {precision:.2f}\")"
   ]
  },
  {
   "cell_type": "code",
   "execution_count": 8,
   "id": "004108d2-7913-49d4-8829-1232a2959146",
   "metadata": {
    "tags": []
   },
   "outputs": [
    {
     "data": {
      "text/plain": [
       "257.602885406912"
      ]
     },
     "execution_count": 8,
     "metadata": {},
     "output_type": "execute_result"
    }
   ],
   "source": [
    "#Test and visulization\n",
    "ptf_value\n"
   ]
  },
  {
   "cell_type": "code",
   "execution_count": 6,
   "id": "158d34d3-ca67-4164-b8f0-85fdb084e7f6",
   "metadata": {
    "tags": []
   },
   "outputs": [],
   "source": [
    "testing_data_returns = pd.DataFrame(testing_data_returns)\n",
    "testing_data_returns\n",
    "testing_data_returns.to_csv(\"testing_data_returns.csv\")"
   ]
  },
  {
   "cell_type": "code",
   "execution_count": 7,
   "id": "8ebd5693-1783-4ccb-851f-99ad37791290",
   "metadata": {
    "tags": []
   },
   "outputs": [
    {
     "name": "stdout",
     "output_type": "stream",
     "text": [
      "148.63944631651646\n"
     ]
    }
   ],
   "source": [
    "#Usage Example Quant\n",
    "in_sample_split = len(returns) // 2\n",
    "#Import The min vol strategy from the straegies module\n",
    "min_vol=Strategies.get_minimum_variance_portfolio\n",
    "#Import The backtester from the strategies module\n",
    "backtest=Strategies.backtest_strategy\n",
    "out_of_sample_returns, out_of_sample_volatility, portfolio_value = backtest(\"Quant\",min_vol, returns, in_sample_split)\n",
    "print(portfolio_value)"
   ]
  }
 ],
 "metadata": {
  "kernelspec": {
   "display_name": "Python 3 (ipykernel)",
   "language": "python",
   "name": "python3"
  },
  "language_info": {
   "codemirror_mode": {
    "name": "ipython",
    "version": 3
   },
   "file_extension": ".py",
   "mimetype": "text/x-python",
   "name": "python",
   "nbconvert_exporter": "python",
   "pygments_lexer": "ipython3",
   "version": "3.11.3"
  }
 },
 "nbformat": 4,
 "nbformat_minor": 5
}
